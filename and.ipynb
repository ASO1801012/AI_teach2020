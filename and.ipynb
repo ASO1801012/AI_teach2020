{
  "nbformat": 4,
  "nbformat_minor": 0,
  "metadata": {
    "colab": {
      "name": "and.ipynb",
      "provenance": [],
      "collapsed_sections": [],
      "authorship_tag": "ABX9TyN4iQaUKcIeq/lTnTP+o/75",
      "include_colab_link": true
    },
    "kernelspec": {
      "name": "python3",
      "display_name": "Python 3"
    }
  },
  "cells": [
    {
      "cell_type": "markdown",
      "metadata": {
        "id": "view-in-github",
        "colab_type": "text"
      },
      "source": [
        "<a href=\"https://colab.research.google.com/github/ASO1801012/AI_teach2020/blob/master/and.ipynb\" target=\"_parent\"><img src=\"https://colab.research.google.com/assets/colab-badge.svg\" alt=\"Open In Colab\"/></a>"
      ]
    },
    {
      "cell_type": "markdown",
      "metadata": {
        "id": "kzX4Xsj9r-QW"
      },
      "source": [
        "###AND演算を学ばせる(LinearSVC)"
      ]
    },
    {
      "cell_type": "code",
      "metadata": {
        "id": "ADM-n3WasLjf"
      },
      "source": [
        "# scikit-learnを使うため、インポートする\n",
        "from sklearn.svm import LinearSVC # 線形SVCのオブジェクト\n",
        "from sklearn.metrics import accuracy_score # 結果を評価するためのオブジェクト"
      ],
      "execution_count": 11,
      "outputs": []
    },
    {
      "cell_type": "markdown",
      "metadata": {
        "id": "ieyxvIQ8s8f1"
      },
      "source": [
        "###学習のためのデータを用意する"
      ]
    },
    {
      "cell_type": "code",
      "metadata": {
        "id": "StSb7adJtPmh"
      },
      "source": [
        "#入力値を表すデータ\n",
        "#入力X,入力Y\n",
        "learn_data=[[0,0],[1,0],[0,1],[1,1]]\n",
        "#(X and Y)結果\n",
        "learn_label = [0,0,0,1]"
      ],
      "execution_count": 12,
      "outputs": []
    },
    {
      "cell_type": "markdown",
      "metadata": {
        "id": "MIhAI-K3uIa6"
      },
      "source": [
        "###アルゴリズムのインスタンスを生成"
      ]
    },
    {
      "cell_type": "code",
      "metadata": {
        "id": "J5GQyzGeuPtc"
      },
      "source": [
        "###線形SVCのインスタンス (=　モデル)\n",
        "clf = LinearSVC()"
      ],
      "execution_count": 13,
      "outputs": []
    },
    {
      "cell_type": "markdown",
      "metadata": {
        "id": "DlJ_1jcsvCyw"
      },
      "source": [
        "###モデルに学習させる(fitメソッド)"
      ]
    },
    {
      "cell_type": "code",
      "metadata": {
        "id": "cH6b-3aWvDg1",
        "outputId": "8bce9e15-d186-4c69-c670-fc16bc0cc693",
        "colab": {
          "base_uri": "https://localhost:8080/",
          "height": 87
        }
      },
      "source": [
        "clf.fit(learn_data,learn_label)"
      ],
      "execution_count": 14,
      "outputs": [
        {
          "output_type": "execute_result",
          "data": {
            "text/plain": [
              "LinearSVC(C=1.0, class_weight=None, dual=True, fit_intercept=True,\n",
              "          intercept_scaling=1, loss='squared_hinge', max_iter=1000,\n",
              "          multi_class='ovr', penalty='l2', random_state=None, tol=0.0001,\n",
              "          verbose=0)"
            ]
          },
          "metadata": {
            "tags": []
          },
          "execution_count": 14
        }
      ]
    },
    {
      "cell_type": "markdown",
      "metadata": {
        "id": "C6BdlbS1vQ9Z"
      },
      "source": [
        "###モデルがちゃんと学習できたか、テストデータで、予測させてみる"
      ]
    },
    {
      "cell_type": "code",
      "metadata": {
        "id": "u-eTJ9TqvZ6y",
        "outputId": "f1f97e03-3bc1-4571-bd1e-46b071f16bf4",
        "colab": {
          "base_uri": "https://localhost:8080/",
          "height": 69
        }
      },
      "source": [
        "#予測のテストデータ(検証データ)を作る\n",
        "test_data = [ [0,0], [1,0], [0,1], [1,1] ]\n",
        "# モデルにテストデータを回答させる（予測） 予測のメソッドはpredict\n",
        "test_label = clf.predict( test_data )\n",
        "print(test_label)\n",
        "# 予測結果の評価\n",
        "print(test_data, \"の予測結果\", test_label)\n",
        "# 結果の精度を表示させる\n",
        "print(\"正解率 = \", accuracy_score([0,0,0,1], test_label))"
      ],
      "execution_count": 15,
      "outputs": [
        {
          "output_type": "stream",
          "text": [
            "[0 0 0 1]\n",
            "[[0, 0], [1, 0], [0, 1], [1, 1]] の予測結果 [0 0 0 1]\n",
            "正解率 =  1.0\n"
          ],
          "name": "stdout"
        }
      ]
    },
    {
      "cell_type": "markdown",
      "metadata": {
        "id": "3Cx-mxWfYlqt"
      },
      "source": [
        "XOR演算を実装する"
      ]
    },
    {
      "cell_type": "code",
      "metadata": {
        "id": "JQqV4f14Yscd"
      },
      "source": [
        "# XOR演算を学習するためのデータを用意する\n",
        "# X, Y の順\n",
        "learn_data = [ [0,0], [1,0], [0,1], [1,1] ]\n",
        "# X xor Y の結果正解データ（学習ラベル）\n",
        "learn_label = [ 0, 1, 1, 0 ]"
      ],
      "execution_count": 16,
      "outputs": []
    },
    {
      "cell_type": "code",
      "metadata": {
        "id": "4KhYVhFgeykT",
        "outputId": "1bae3a3b-ba1d-4f62-c0d9-451a50e243a1",
        "colab": {
          "base_uri": "https://localhost:8080/",
          "height": 87
        }
      },
      "source": [
        "# 学習モデルのインスタンスを作る（LinearSVC）\n",
        "clf = LinearSVC()\n",
        "# 学習させる\n",
        "clf.fit(learn_data, learn_label)"
      ],
      "execution_count": 17,
      "outputs": [
        {
          "output_type": "execute_result",
          "data": {
            "text/plain": [
              "LinearSVC(C=1.0, class_weight=None, dual=True, fit_intercept=True,\n",
              "          intercept_scaling=1, loss='squared_hinge', max_iter=1000,\n",
              "          multi_class='ovr', penalty='l2', random_state=None, tol=0.0001,\n",
              "          verbose=0)"
            ]
          },
          "metadata": {
            "tags": []
          },
          "execution_count": 17
        }
      ]
    },
    {
      "cell_type": "code",
      "metadata": {
        "id": "jE3dlPZ7e2SN"
      },
      "source": [
        "# 学習モデルに推論させる\n",
        "test_data =  [ [0,0], [1,0], [0,1], [1,1] ]\n",
        "test_label = clf.predict(test_data)"
      ],
      "execution_count": 18,
      "outputs": []
    },
    {
      "cell_type": "code",
      "metadata": {
        "id": "RGMjJkYme4Kf",
        "outputId": "47107812-d102-4203-fbf8-befeaad61981",
        "colab": {
          "base_uri": "https://localhost:8080/",
          "height": 52
        }
      },
      "source": [
        "# 結果を検証する\n",
        "print(test_data, \"の予測結果\", test_label)\n",
        "print(\"正解率 = \" , accuracy_score([ 0, 1, 1, 0 ], test_label))"
      ],
      "execution_count": 19,
      "outputs": [
        {
          "output_type": "stream",
          "text": [
            "[[0, 0], [1, 0], [0, 1], [1, 1]] の予測結果 [1 1 1 1]\n",
            "正解率 =  0.5\n"
          ],
          "name": "stdout"
        }
      ]
    },
    {
      "cell_type": "markdown",
      "metadata": {
        "id": "VHfxm6UoZ-2A"
      },
      "source": [
        "###K近傍法でXOR演算を実装する"
      ]
    },
    {
      "cell_type": "code",
      "metadata": {
        "id": "0lSnDsyFaLEA"
      },
      "source": [
        "#K近傍法のアルゴリズムのクラスをimport\n",
        "from sklearn.neighbors import KNeighborsClassifier"
      ],
      "execution_count": 20,
      "outputs": []
    },
    {
      "cell_type": "code",
      "metadata": {
        "id": "3dAb9HBIaq9o"
      },
      "source": [
        "#学習モデルの変数clfをK近傍法アルゴリズムのインスタンスで上書き\n",
        "clf = KNeighborsClassifier(n_neighbors=1)"
      ],
      "execution_count": 21,
      "outputs": []
    },
    {
      "cell_type": "code",
      "metadata": {
        "id": "ovAQBEyYe-_T",
        "outputId": "e998dc98-4e11-4601-c27e-27b16e8f8918",
        "colab": {
          "base_uri": "https://localhost:8080/",
          "height": 69
        }
      },
      "source": [
        "# 学習用入力データ(learn_data)と結果用正解データ(learn_label)を使って学習\n",
        "clf.fit(learn_data, learn_label)"
      ],
      "execution_count": 22,
      "outputs": [
        {
          "output_type": "execute_result",
          "data": {
            "text/plain": [
              "KNeighborsClassifier(algorithm='auto', leaf_size=30, metric='minkowski',\n",
              "                     metric_params=None, n_jobs=None, n_neighbors=1, p=2,\n",
              "                     weights='uniform')"
            ]
          },
          "metadata": {
            "tags": []
          },
          "execution_count": 22
        }
      ]
    },
    {
      "cell_type": "markdown",
      "metadata": {
        "id": "jnDJoxFNcPDQ"
      },
      "source": [
        "###テスト検証用データで推論する"
      ]
    },
    {
      "cell_type": "code",
      "metadata": {
        "id": "mSkLoPDucoU5",
        "outputId": "866ca4ec-3ffc-4924-99b9-563d0372dfe9",
        "colab": {
          "base_uri": "https://localhost:8080/",
          "height": 52
        }
      },
      "source": [
        "#テスト検証用データ(test_data)と答え合わせ用の正解データ([0,1,1,0])\n",
        "test_label=clf.predict(test_data)\n",
        "\n",
        "#推論結果の評価\n",
        "print(test_data, \"の予測(推論)結果\",test_label)\n",
        "print(\"正解率=\",accuracy_score([0,1,1,0],test_label))"
      ],
      "execution_count": 23,
      "outputs": [
        {
          "output_type": "stream",
          "text": [
            "[[0, 0], [1, 0], [0, 1], [1, 1]] の予測(推論)結果 [0 1 1 0]\n",
            "正解率= 1.0\n"
          ],
          "name": "stdout"
        }
      ]
    }
  ]
}