{
  "nbformat": 4,
  "nbformat_minor": 0,
  "metadata": {
    "colab": {
      "name": "and.ipynb",
      "provenance": [],
      "collapsed_sections": [],
      "authorship_tag": "ABX9TyOb0SgPGdUan5spaYKpRX6Y",
      "include_colab_link": true
    },
    "kernelspec": {
      "name": "python3",
      "display_name": "Python 3"
    }
  },
  "cells": [
    {
      "cell_type": "markdown",
      "metadata": {
        "id": "view-in-github",
        "colab_type": "text"
      },
      "source": [
        "<a href=\"https://colab.research.google.com/github/ASO1801012/AI_teach2020/blob/master/and.ipynb\" target=\"_parent\"><img src=\"https://colab.research.google.com/assets/colab-badge.svg\" alt=\"Open In Colab\"/></a>"
      ]
    },
    {
      "cell_type": "markdown",
      "metadata": {
        "id": "kzX4Xsj9r-QW"
      },
      "source": [
        "###AND演算を学ばせる(LinearSVC)"
      ]
    },
    {
      "cell_type": "code",
      "metadata": {
        "id": "ADM-n3WasLjf"
      },
      "source": [
        "# sckit-learnを使うために、インポートする\n",
        "from sklearn.svm import LinearSVC # 線形オブジェクト\n",
        "from sklearn.metrics import accracy_score #結果を評価するためのオブジェクト "
      ],
      "execution_count": null,
      "outputs": []
    },
    {
      "cell_type": "markdown",
      "metadata": {
        "id": "ieyxvIQ8s8f1"
      },
      "source": [
        "###学習のためのデータを用意する"
      ]
    },
    {
      "cell_type": "code",
      "metadata": {
        "id": "StSb7adJtPmh"
      },
      "source": [
        "#入力値を表すデータ\n",
        "#入力X,入力Y\n",
        "learn_date=[[0,0],[1,0],[0,1],[1,1]]\n",
        "#(X and Y)結果\n",
        "learn_label = [0,0,0,1]"
      ],
      "execution_count": null,
      "outputs": []
    },
    {
      "cell_type": "markdown",
      "metadata": {
        "id": "MIhAI-K3uIa6"
      },
      "source": [
        "###アルゴリズムのインスタンスを生成"
      ]
    },
    {
      "cell_type": "code",
      "metadata": {
        "id": "J5GQyzGeuPtc"
      },
      "source": [
        "###線形SVCのインスタンス (=　モデル)\n",
        "clf = LinearSVC()"
      ],
      "execution_count": null,
      "outputs": []
    },
    {
      "cell_type": "markdown",
      "metadata": {
        "id": "DlJ_1jcsvCyw"
      },
      "source": [
        "###モデルに学習させる(fitメソッド)"
      ]
    },
    {
      "cell_type": "code",
      "metadata": {
        "id": "cH6b-3aWvDg1"
      },
      "source": [
        "clf.fit(learn_date,learn_label)"
      ],
      "execution_count": null,
      "outputs": []
    },
    {
      "cell_type": "markdown",
      "metadata": {
        "id": "C6BdlbS1vQ9Z"
      },
      "source": [
        "###モデルがちゃんと学習できたか、テストデータで、予測させてみる"
      ]
    },
    {
      "cell_type": "code",
      "metadata": {
        "id": "u-eTJ9TqvZ6y"
      },
      "source": [
        "#予測のテストデータ(検証データ)を作る\n",
        "test_date=[[0,0],[1,0],[0,1],[1,1]]\n",
        "#モデルにテストデータを回答させる(予測)　予測のメソッドはpredict\n",
        "test_label = clf.predict(test_date)\n",
        "print(test_date)\n",
        "# 予測結果の評価\n",
        "print(test_date,\"の予測結果\",test_date)\n",
        "# 結果の精度を表示させる\n",
        "print(\"正解率=\",accuracy_score[0,0,0,1],test_label)"
      ],
      "execution_count": null,
      "outputs": []
    },
    {
      "cell_type": "markdown",
      "metadata": {
        "id": "3Cx-mxWfYlqt"
      },
      "source": [
        "XOR演算を実装する"
      ]
    },
    {
      "cell_type": "code",
      "metadata": {
        "id": "JQqV4f14Yscd"
      },
      "source": [
        ""
      ],
      "execution_count": null,
      "outputs": []
    },
    {
      "cell_type": "markdown",
      "metadata": {
        "id": "VHfxm6UoZ-2A"
      },
      "source": [
        "###K近傍法でXOR演算を実装する"
      ]
    },
    {
      "cell_type": "code",
      "metadata": {
        "id": "0lSnDsyFaLEA"
      },
      "source": [
        "#K近傍法のアルゴリズムのクラスをimport\n",
        "from sklearn.neighbors import KNeighborsClassifier"
      ],
      "execution_count": null,
      "outputs": []
    },
    {
      "cell_type": "code",
      "metadata": {
        "id": "3dAb9HBIaq9o"
      },
      "source": [
        "#学習モデルの変数clfをK近傍法アルゴリズムのインスタンスで上書き\n",
        "clf=KNeighborsClassifier"
      ],
      "execution_count": null,
      "outputs": []
    },
    {
      "cell_type": "markdown",
      "metadata": {
        "id": "jnDJoxFNcPDQ"
      },
      "source": [
        "###テスト検証用データで推論する"
      ]
    },
    {
      "cell_type": "code",
      "metadata": {
        "id": "mSkLoPDucoU5"
      },
      "source": [
        "#テスト検証用データ(test_data)と答え合わせ用の正解データ([0,1,1,0])\n",
        "test_label=clf.predict(test_data)\n",
        "\n",
        "#推論結果の評価\n",
        "print(test_data, \"の予測(推論)結果\",test_label)\n",
        "print(\"正解率=\",accuracy_score([0,1,1,0],test_label))"
      ],
      "execution_count": null,
      "outputs": []
    },
    {
      "cell_type": "code",
      "metadata": {
        "id": "IQOi5ohxd20y"
      },
      "source": [
        ""
      ],
      "execution_count": null,
      "outputs": []
    }
  ]
}